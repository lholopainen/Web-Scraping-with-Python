{
 "cells": [
  {
   "cell_type": "markdown",
   "id": "d83047e7",
   "metadata": {},
   "source": [
    "# Web Scraping with Python"
   ]
  },
  {
   "cell_type": "markdown",
   "id": "6d001e5c",
   "metadata": {},
   "source": [
    "## Use the requests library to download web pages"
   ]
  },
  {
   "cell_type": "code",
   "execution_count": 2,
   "id": "a9fbfb58",
   "metadata": {},
   "outputs": [],
   "source": [
    "!pip install requests --upgrade --quiet"
   ]
  },
  {
   "cell_type": "code",
   "execution_count": 3,
   "id": "08c786ac",
   "metadata": {},
   "outputs": [],
   "source": [
    "import requests"
   ]
  },
  {
   "cell_type": "code",
   "execution_count": 25,
   "id": "7912bb01",
   "metadata": {},
   "outputs": [],
   "source": [
    "books_url = 'https://www.amazon.co.uk/bestsellers/books'"
   ]
  },
  {
   "cell_type": "code",
   "execution_count": 26,
   "id": "589485dd",
   "metadata": {},
   "outputs": [],
   "source": [
    "response = requests.get(books_url)"
   ]
  },
  {
   "cell_type": "code",
   "execution_count": 27,
   "id": "f72606db",
   "metadata": {},
   "outputs": [
    {
     "data": {
      "text/plain": [
       "200"
      ]
     },
     "execution_count": 27,
     "metadata": {},
     "output_type": "execute_result"
    }
   ],
   "source": [
    "response.status_code"
   ]
  },
  {
   "cell_type": "code",
   "execution_count": 28,
   "id": "752f578f",
   "metadata": {},
   "outputs": [
    {
     "data": {
      "text/plain": [
       "217621"
      ]
     },
     "execution_count": 28,
     "metadata": {},
     "output_type": "execute_result"
    }
   ],
   "source": [
    "len(response.text)"
   ]
  },
  {
   "cell_type": "code",
   "execution_count": 30,
   "id": "c29cfe32",
   "metadata": {},
   "outputs": [],
   "source": [
    "page_contents = response.text"
   ]
  },
  {
   "cell_type": "code",
   "execution_count": 33,
   "id": "4244d9a6",
   "metadata": {},
   "outputs": [],
   "source": [
    "with open('webpage.html', 'w') as f:\n",
    "    f.write(page_contents)"
   ]
  },
  {
   "cell_type": "markdown",
   "id": "1b0f15ff",
   "metadata": {},
   "source": [
    "## Use Beautiful Soup to parse and extract information"
   ]
  },
  {
   "cell_type": "code",
   "execution_count": 34,
   "id": "0083296d",
   "metadata": {},
   "outputs": [],
   "source": [
    "!pip install beautifulsoup4 --upgrade --quiet"
   ]
  },
  {
   "cell_type": "code",
   "execution_count": 36,
   "id": "6221dc63",
   "metadata": {},
   "outputs": [],
   "source": [
    "from bs4 import BeautifulSoup"
   ]
  },
  {
   "cell_type": "code",
   "execution_count": 38,
   "id": "e8f4bca7",
   "metadata": {},
   "outputs": [],
   "source": [
    "doc = BeautifulSoup(page_contents, 'html.parser')"
   ]
  },
  {
   "cell_type": "code",
   "execution_count": 39,
   "id": "d7a73a67",
   "metadata": {},
   "outputs": [
    {
     "data": {
      "text/plain": [
       "bs4.BeautifulSoup"
      ]
     },
     "execution_count": 39,
     "metadata": {},
     "output_type": "execute_result"
    }
   ],
   "source": [
    "type(doc)"
   ]
  },
  {
   "cell_type": "code",
   "execution_count": 147,
   "id": "356f4f15",
   "metadata": {},
   "outputs": [],
   "source": [
    "title_tags = doc.find_all('div', {'class': 'p13n-sc-truncate'})"
   ]
  },
  {
   "cell_type": "code",
   "execution_count": 238,
   "id": "192524f6",
   "metadata": {},
   "outputs": [],
   "source": [
    "author_tags = doc.select(\"a.a-size-small.a-link-child, span.a-size-small.a-color-base\")"
   ]
  },
  {
   "cell_type": "code",
   "execution_count": 239,
   "id": "8c7dd25e",
   "metadata": {},
   "outputs": [
    {
     "data": {
      "text/plain": [
       "50"
      ]
     },
     "execution_count": 239,
     "metadata": {},
     "output_type": "execute_result"
    }
   ],
   "source": [
    "len(author_tags)"
   ]
  },
  {
   "cell_type": "code",
   "execution_count": 203,
   "id": "3be943f4",
   "metadata": {},
   "outputs": [],
   "source": [
    "price_tags = doc.find_all('span', {'class': 'p13n-sc-price'})"
   ]
  },
  {
   "cell_type": "code",
   "execution_count": 206,
   "id": "421d77a8",
   "metadata": {},
   "outputs": [],
   "source": [
    "rating_tags = doc.find_all('span', {'class': 'a-icon-alt'})"
   ]
  },
  {
   "cell_type": "code",
   "execution_count": 207,
   "id": "2a5f7a16",
   "metadata": {},
   "outputs": [
    {
     "data": {
      "text/plain": [
       "45"
      ]
     },
     "execution_count": 207,
     "metadata": {},
     "output_type": "execute_result"
    }
   ],
   "source": [
    "len(rating_tags)"
   ]
  },
  {
   "cell_type": "code",
   "execution_count": 228,
   "id": "1306fb91",
   "metadata": {},
   "outputs": [],
   "source": [
    "title = []\n",
    "\n",
    "for tag in title_tags:\n",
    "    title.append(tag.text.strip())"
   ]
  },
  {
   "cell_type": "code",
   "execution_count": 240,
   "id": "44672f93",
   "metadata": {},
   "outputs": [],
   "source": [
    "author = []\n",
    "\n",
    "for tag in author_tags:\n",
    "    author.append(tag.text)"
   ]
  },
  {
   "cell_type": "code",
   "execution_count": 234,
   "id": "a76e2352",
   "metadata": {},
   "outputs": [],
   "source": [
    "price = []\n",
    "\n",
    "for tag in price_tags:\n",
    "    price.append(tag.text)"
   ]
  },
  {
   "cell_type": "code",
   "execution_count": 229,
   "id": "fe1e5aa8",
   "metadata": {},
   "outputs": [],
   "source": [
    "rating = []\n",
    "\n",
    "for tag in rating_tags:\n",
    "    rating.append(tag.text)"
   ]
  },
  {
   "cell_type": "code",
   "execution_count": 221,
   "id": "0f4d8eac",
   "metadata": {},
   "outputs": [],
   "source": [
    "import pandas as pd"
   ]
  },
  {
   "cell_type": "code",
   "execution_count": 242,
   "id": "398317c7",
   "metadata": {},
   "outputs": [],
   "source": [
    "books_dict = {\n",
    "    'title': title,\n",
    "    'author': author,\n",
    "    'price' : price\n",
    "}"
   ]
  },
  {
   "cell_type": "code",
   "execution_count": 243,
   "id": "758638d5",
   "metadata": {},
   "outputs": [],
   "source": [
    "books_df = pd.DataFrame(books_dict)"
   ]
  },
  {
   "cell_type": "code",
   "execution_count": 244,
   "id": "82687377",
   "metadata": {},
   "outputs": [
    {
     "data": {
      "text/html": [
       "<div>\n",
       "<style scoped>\n",
       "    .dataframe tbody tr th:only-of-type {\n",
       "        vertical-align: middle;\n",
       "    }\n",
       "\n",
       "    .dataframe tbody tr th {\n",
       "        vertical-align: top;\n",
       "    }\n",
       "\n",
       "    .dataframe thead th {\n",
       "        text-align: right;\n",
       "    }\n",
       "</style>\n",
       "<table border=\"1\" class=\"dataframe\">\n",
       "  <thead>\n",
       "    <tr style=\"text-align: right;\">\n",
       "      <th></th>\n",
       "      <th>title</th>\n",
       "      <th>author</th>\n",
       "      <th>price</th>\n",
       "    </tr>\n",
       "  </thead>\n",
       "  <tbody>\n",
       "    <tr>\n",
       "      <th>0</th>\n",
       "      <td>Pinch of Nom Comfort Food: 100 Slimming, Satis...</td>\n",
       "      <td>Kay Featherstone</td>\n",
       "      <td>£10.00</td>\n",
       "    </tr>\n",
       "    <tr>\n",
       "      <th>1</th>\n",
       "      <td>Murder Investigation Team: How Scotland Yard R...</td>\n",
       "      <td>Steven Keogh</td>\n",
       "      <td>£8.99</td>\n",
       "    </tr>\n",
       "    <tr>\n",
       "      <th>2</th>\n",
       "      <td>Why Has Nobody Told Me This Before?: The No 1 ...</td>\n",
       "      <td>Dr Julie Smith</td>\n",
       "      <td>£10.00</td>\n",
       "    </tr>\n",
       "    <tr>\n",
       "      <th>3</th>\n",
       "      <td>Slimming Eats: Healthy, delicious recipes – 10...</td>\n",
       "      <td>Siobhan Wightman</td>\n",
       "      <td>£12.00</td>\n",
       "    </tr>\n",
       "    <tr>\n",
       "      <th>4</th>\n",
       "      <td>It Ends With Us: The top five Sunday Times bes...</td>\n",
       "      <td>Colleen Hoover</td>\n",
       "      <td>£5.00</td>\n",
       "    </tr>\n",
       "    <tr>\n",
       "      <th>5</th>\n",
       "      <td>Pinch of Nom Quick &amp; Easy: 100 Delicious, Slim...</td>\n",
       "      <td>Kay Featherstone</td>\n",
       "      <td>£10.00</td>\n",
       "    </tr>\n",
       "    <tr>\n",
       "      <th>6</th>\n",
       "      <td>Manifest: The Sunday Times bestseller that wil...</td>\n",
       "      <td>Roxie Nafousi</td>\n",
       "      <td>£7.49</td>\n",
       "    </tr>\n",
       "    <tr>\n",
       "      <th>7</th>\n",
       "      <td>The Midnight Library: The No.1 Sunday Times be...</td>\n",
       "      <td>Matt Haig</td>\n",
       "      <td>£4.50</td>\n",
       "    </tr>\n",
       "    <tr>\n",
       "      <th>8</th>\n",
       "      <td>Atomic Habits: The life-changing million copy ...</td>\n",
       "      <td>James Clear</td>\n",
       "      <td>£12.00</td>\n",
       "    </tr>\n",
       "    <tr>\n",
       "      <th>9</th>\n",
       "      <td>Everything You Need to Know About the Menopaus...</td>\n",
       "      <td>Kate Muir</td>\n",
       "      <td>£13.59</td>\n",
       "    </tr>\n",
       "    <tr>\n",
       "      <th>10</th>\n",
       "      <td>The Thursday Murder Club: The Record-Breaking ...</td>\n",
       "      <td>Richard Osman</td>\n",
       "      <td>£4.50</td>\n",
       "    </tr>\n",
       "    <tr>\n",
       "      <th>11</th>\n",
       "      <td>Reminders of Him: A Novel</td>\n",
       "      <td>Colleen Hoover</td>\n",
       "      <td>£5.99</td>\n",
       "    </tr>\n",
       "    <tr>\n",
       "      <th>12</th>\n",
       "      <td>Recovery: The Lost Art of Convalescence</td>\n",
       "      <td>Gavin Francis</td>\n",
       "      <td>£4.49</td>\n",
       "    </tr>\n",
       "    <tr>\n",
       "      <th>13</th>\n",
       "      <td>The Boy, The Mole, The Fox and The Horse</td>\n",
       "      <td>Charlie Mackesy</td>\n",
       "      <td>£9.00</td>\n",
       "    </tr>\n",
       "    <tr>\n",
       "      <th>14</th>\n",
       "      <td>Spoon-Fed: Why almost everything we’ve been to...</td>\n",
       "      <td>Tim Spector</td>\n",
       "      <td>£6.99</td>\n",
       "    </tr>\n",
       "    <tr>\n",
       "      <th>15</th>\n",
       "      <td>Fast 800 Keto: Eat well, burn fat, manage your...</td>\n",
       "      <td>Dr Michael Mosley</td>\n",
       "      <td>£7.49</td>\n",
       "    </tr>\n",
       "    <tr>\n",
       "      <th>16</th>\n",
       "      <td>Seven Husbands of Evelyn Hugo: Tiktok made me ...</td>\n",
       "      <td>Taylor Jenkins Reid</td>\n",
       "      <td>£5.00</td>\n",
       "    </tr>\n",
       "    <tr>\n",
       "      <th>17</th>\n",
       "      <td>Normal People: One million copies sold</td>\n",
       "      <td>Sally Rooney</td>\n",
       "      <td>£4.50</td>\n",
       "    </tr>\n",
       "    <tr>\n",
       "      <th>18</th>\n",
       "      <td>The Man Who Died Twice (The Thursday Murder Cl...</td>\n",
       "      <td>Richard Osman</td>\n",
       "      <td>£9.00</td>\n",
       "    </tr>\n",
       "    <tr>\n",
       "      <th>19</th>\n",
       "      <td>Good Vibes, Good Life: How Self-Love Is the Ke...</td>\n",
       "      <td>Vex King</td>\n",
       "      <td>£8.00</td>\n",
       "    </tr>\n",
       "    <tr>\n",
       "      <th>20</th>\n",
       "      <td>Ugly Love</td>\n",
       "      <td>Colleen Hoover</td>\n",
       "      <td>£7.37</td>\n",
       "    </tr>\n",
       "    <tr>\n",
       "      <th>21</th>\n",
       "      <td>Pinch of Nom Everyday Light: 100 Tasty, Slimmi...</td>\n",
       "      <td>Kay Featherstone</td>\n",
       "      <td>£10.00</td>\n",
       "    </tr>\n",
       "    <tr>\n",
       "      <th>22</th>\n",
       "      <td>Pinch of Nom: 100 Slimming, Home-style Recipes</td>\n",
       "      <td>Kay Featherstone</td>\n",
       "      <td>£10.00</td>\n",
       "    </tr>\n",
       "    <tr>\n",
       "      <th>23</th>\n",
       "      <td>Where the Crawdads Sing: Delia Owens</td>\n",
       "      <td>Delia Owens</td>\n",
       "      <td>£5.00</td>\n",
       "    </tr>\n",
       "    <tr>\n",
       "      <th>24</th>\n",
       "      <td>The Couple at No 9: The unputdownable and nail...</td>\n",
       "      <td>Claire Douglas</td>\n",
       "      <td>£4.50</td>\n",
       "    </tr>\n",
       "    <tr>\n",
       "      <th>25</th>\n",
       "      <td>What I Wish People Knew About Dementia</td>\n",
       "      <td>Wendy Mitchell</td>\n",
       "      <td>£12.99</td>\n",
       "    </tr>\n",
       "    <tr>\n",
       "      <th>26</th>\n",
       "      <td>Ēncanto Coloring Book: Jumbo 2021-2022 Ēncanto...</td>\n",
       "      <td>Monica Lee</td>\n",
       "      <td>£2.96</td>\n",
       "    </tr>\n",
       "    <tr>\n",
       "      <th>27</th>\n",
       "      <td>Pinch of Nom Food Planner: Quick &amp; Easy</td>\n",
       "      <td>Kay Featherstone</td>\n",
       "      <td>£5.49</td>\n",
       "    </tr>\n",
       "    <tr>\n",
       "      <th>28</th>\n",
       "      <td>Windswept &amp; Interesting: My Autobiography</td>\n",
       "      <td>Billy Connolly</td>\n",
       "      <td>£9.50</td>\n",
       "    </tr>\n",
       "    <tr>\n",
       "      <th>29</th>\n",
       "      <td>They Both Die at the End: TikTok made me buy i...</td>\n",
       "      <td>Adam Silvera</td>\n",
       "      <td>£4.00</td>\n",
       "    </tr>\n",
       "    <tr>\n",
       "      <th>30</th>\n",
       "      <td>The Betrayal of Anne Frank: Less a Mystery Uns...</td>\n",
       "      <td>Rosemary Sullivan</td>\n",
       "      <td>£14.99</td>\n",
       "    </tr>\n",
       "    <tr>\n",
       "      <th>31</th>\n",
       "      <td>Atlas of the Heart: Mapping Meaningful Connect...</td>\n",
       "      <td>Brené Brown</td>\n",
       "      <td>£12.00</td>\n",
       "    </tr>\n",
       "    <tr>\n",
       "      <th>32</th>\n",
       "      <td>Carson Dellosa First Words Flash Cards—Double-...</td>\n",
       "      <td>Child Brighter</td>\n",
       "      <td>£2.60</td>\n",
       "    </tr>\n",
       "    <tr>\n",
       "      <th>33</th>\n",
       "      <td>GIRL A: The Sunday Times and New York Times gl...</td>\n",
       "      <td>Abigail Dean</td>\n",
       "      <td>£4.50</td>\n",
       "    </tr>\n",
       "    <tr>\n",
       "      <th>34</th>\n",
       "      <td>The Fast 800 Easy: Quick and simple recipes to...</td>\n",
       "      <td>Dr Clare Bailey</td>\n",
       "      <td>£8.00</td>\n",
       "    </tr>\n",
       "    <tr>\n",
       "      <th>35</th>\n",
       "      <td>Big Panda and Tiny Dragon: The beautifully ill...</td>\n",
       "      <td>James Norbury</td>\n",
       "      <td>£5.75</td>\n",
       "    </tr>\n",
       "    <tr>\n",
       "      <th>36</th>\n",
       "      <td>The Green Roasting Tin: Vegan and Vegetarian O...</td>\n",
       "      <td>Rukmini Iyer</td>\n",
       "      <td>£10.00</td>\n",
       "    </tr>\n",
       "    <tr>\n",
       "      <th>37</th>\n",
       "      <td>Diddly Squat: The No 1 Sunday Times bestseller</td>\n",
       "      <td>Jeremy Clarkson</td>\n",
       "      <td>£7.50</td>\n",
       "    </tr>\n",
       "    <tr>\n",
       "      <th>38</th>\n",
       "      <td>Don't Worry, Be Happy: A Child’s Guide to Deal...</td>\n",
       "      <td>Poppy O'Neill</td>\n",
       "      <td>£2.00</td>\n",
       "    </tr>\n",
       "    <tr>\n",
       "      <th>39</th>\n",
       "      <td>The Flatshare</td>\n",
       "      <td>Beth O'Leary</td>\n",
       "      <td>£2.00</td>\n",
       "    </tr>\n",
       "    <tr>\n",
       "      <th>40</th>\n",
       "      <td>The Fast 800 Recipe Book: Low-carb, Mediterran...</td>\n",
       "      <td>Dr Clare Bailey</td>\n",
       "      <td>£11.93</td>\n",
       "    </tr>\n",
       "    <tr>\n",
       "      <th>41</th>\n",
       "      <td>The Night She Disappeared: the No. 1 bestselle...</td>\n",
       "      <td>Lisa Jewell</td>\n",
       "      <td>£4.49</td>\n",
       "    </tr>\n",
       "    <tr>\n",
       "      <th>42</th>\n",
       "      <td>THE FITNESS CHEF – Lose Weight Without Losing ...</td>\n",
       "      <td>Graeme Tomlinson</td>\n",
       "      <td>£14.95</td>\n",
       "    </tr>\n",
       "    <tr>\n",
       "      <th>43</th>\n",
       "      <td>12 Rules for Life: An Antidote to Chaos</td>\n",
       "      <td>Jordan B. Peterson</td>\n",
       "      <td>£9.25</td>\n",
       "    </tr>\n",
       "    <tr>\n",
       "      <th>44</th>\n",
       "      <td>The Slimming Foodie: 100+ recipes under 600 ca...</td>\n",
       "      <td>Pip Payne</td>\n",
       "      <td>£8.00</td>\n",
       "    </tr>\n",
       "    <tr>\n",
       "      <th>45</th>\n",
       "      <td>Coffee Self-Talk: 5 Minutes a Day to Start Liv...</td>\n",
       "      <td>Kristen Helmstetter</td>\n",
       "      <td>£9.49</td>\n",
       "    </tr>\n",
       "    <tr>\n",
       "      <th>46</th>\n",
       "      <td>The Love Hypothesis: Tiktok made me buy it! Th...</td>\n",
       "      <td>Ali Hazelwood</td>\n",
       "      <td>£6.29</td>\n",
       "    </tr>\n",
       "    <tr>\n",
       "      <th>47</th>\n",
       "      <td>And Away...</td>\n",
       "      <td>Bob Mortimer</td>\n",
       "      <td>£10.00</td>\n",
       "    </tr>\n",
       "    <tr>\n",
       "      <th>48</th>\n",
       "      <td>The Science of Nutrition: Debunk the Diet Myth...</td>\n",
       "      <td>Rhiannon Lambert</td>\n",
       "      <td>£14.55</td>\n",
       "    </tr>\n",
       "    <tr>\n",
       "      <th>49</th>\n",
       "      <td>Breath: The New Science of a Lost Art</td>\n",
       "      <td>James Nestor</td>\n",
       "      <td>£8.15</td>\n",
       "    </tr>\n",
       "  </tbody>\n",
       "</table>\n",
       "</div>"
      ],
      "text/plain": [
       "                                                title               author  \\\n",
       "0   Pinch of Nom Comfort Food: 100 Slimming, Satis...     Kay Featherstone   \n",
       "1   Murder Investigation Team: How Scotland Yard R...         Steven Keogh   \n",
       "2   Why Has Nobody Told Me This Before?: The No 1 ...       Dr Julie Smith   \n",
       "3   Slimming Eats: Healthy, delicious recipes – 10...     Siobhan Wightman   \n",
       "4   It Ends With Us: The top five Sunday Times bes...       Colleen Hoover   \n",
       "5   Pinch of Nom Quick & Easy: 100 Delicious, Slim...     Kay Featherstone   \n",
       "6   Manifest: The Sunday Times bestseller that wil...        Roxie Nafousi   \n",
       "7   The Midnight Library: The No.1 Sunday Times be...            Matt Haig   \n",
       "8   Atomic Habits: The life-changing million copy ...          James Clear   \n",
       "9   Everything You Need to Know About the Menopaus...            Kate Muir   \n",
       "10  The Thursday Murder Club: The Record-Breaking ...        Richard Osman   \n",
       "11                          Reminders of Him: A Novel       Colleen Hoover   \n",
       "12            Recovery: The Lost Art of Convalescence        Gavin Francis   \n",
       "13           The Boy, The Mole, The Fox and The Horse      Charlie Mackesy   \n",
       "14  Spoon-Fed: Why almost everything we’ve been to...          Tim Spector   \n",
       "15  Fast 800 Keto: Eat well, burn fat, manage your...    Dr Michael Mosley   \n",
       "16  Seven Husbands of Evelyn Hugo: Tiktok made me ...  Taylor Jenkins Reid   \n",
       "17             Normal People: One million copies sold         Sally Rooney   \n",
       "18  The Man Who Died Twice (The Thursday Murder Cl...        Richard Osman   \n",
       "19  Good Vibes, Good Life: How Self-Love Is the Ke...             Vex King   \n",
       "20                                          Ugly Love       Colleen Hoover   \n",
       "21  Pinch of Nom Everyday Light: 100 Tasty, Slimmi...     Kay Featherstone   \n",
       "22     Pinch of Nom: 100 Slimming, Home-style Recipes     Kay Featherstone   \n",
       "23               Where the Crawdads Sing: Delia Owens          Delia Owens   \n",
       "24  The Couple at No 9: The unputdownable and nail...       Claire Douglas   \n",
       "25             What I Wish People Knew About Dementia       Wendy Mitchell   \n",
       "26  Ēncanto Coloring Book: Jumbo 2021-2022 Ēncanto...           Monica Lee   \n",
       "27            Pinch of Nom Food Planner: Quick & Easy     Kay Featherstone   \n",
       "28          Windswept & Interesting: My Autobiography       Billy Connolly   \n",
       "29  They Both Die at the End: TikTok made me buy i...         Adam Silvera   \n",
       "30  The Betrayal of Anne Frank: Less a Mystery Uns...    Rosemary Sullivan   \n",
       "31  Atlas of the Heart: Mapping Meaningful Connect...          Brené Brown   \n",
       "32  Carson Dellosa First Words Flash Cards—Double-...       Child Brighter   \n",
       "33  GIRL A: The Sunday Times and New York Times gl...         Abigail Dean   \n",
       "34  The Fast 800 Easy: Quick and simple recipes to...      Dr Clare Bailey   \n",
       "35  Big Panda and Tiny Dragon: The beautifully ill...        James Norbury   \n",
       "36  The Green Roasting Tin: Vegan and Vegetarian O...         Rukmini Iyer   \n",
       "37     Diddly Squat: The No 1 Sunday Times bestseller      Jeremy Clarkson   \n",
       "38  Don't Worry, Be Happy: A Child’s Guide to Deal...        Poppy O'Neill   \n",
       "39                                      The Flatshare         Beth O'Leary   \n",
       "40  The Fast 800 Recipe Book: Low-carb, Mediterran...      Dr Clare Bailey   \n",
       "41  The Night She Disappeared: the No. 1 bestselle...          Lisa Jewell   \n",
       "42  THE FITNESS CHEF – Lose Weight Without Losing ...     Graeme Tomlinson   \n",
       "43            12 Rules for Life: An Antidote to Chaos   Jordan B. Peterson   \n",
       "44  The Slimming Foodie: 100+ recipes under 600 ca...            Pip Payne   \n",
       "45  Coffee Self-Talk: 5 Minutes a Day to Start Liv...  Kristen Helmstetter   \n",
       "46  The Love Hypothesis: Tiktok made me buy it! Th...        Ali Hazelwood   \n",
       "47                                        And Away...         Bob Mortimer   \n",
       "48  The Science of Nutrition: Debunk the Diet Myth...     Rhiannon Lambert   \n",
       "49              Breath: The New Science of a Lost Art         James Nestor   \n",
       "\n",
       "     price  \n",
       "0   £10.00  \n",
       "1    £8.99  \n",
       "2   £10.00  \n",
       "3   £12.00  \n",
       "4    £5.00  \n",
       "5   £10.00  \n",
       "6    £7.49  \n",
       "7    £4.50  \n",
       "8   £12.00  \n",
       "9   £13.59  \n",
       "10   £4.50  \n",
       "11   £5.99  \n",
       "12   £4.49  \n",
       "13   £9.00  \n",
       "14   £6.99  \n",
       "15   £7.49  \n",
       "16   £5.00  \n",
       "17   £4.50  \n",
       "18   £9.00  \n",
       "19   £8.00  \n",
       "20   £7.37  \n",
       "21  £10.00  \n",
       "22  £10.00  \n",
       "23   £5.00  \n",
       "24   £4.50  \n",
       "25  £12.99  \n",
       "26   £2.96  \n",
       "27   £5.49  \n",
       "28   £9.50  \n",
       "29   £4.00  \n",
       "30  £14.99  \n",
       "31  £12.00  \n",
       "32   £2.60  \n",
       "33   £4.50  \n",
       "34   £8.00  \n",
       "35   £5.75  \n",
       "36  £10.00  \n",
       "37   £7.50  \n",
       "38   £2.00  \n",
       "39   £2.00  \n",
       "40  £11.93  \n",
       "41   £4.49  \n",
       "42  £14.95  \n",
       "43   £9.25  \n",
       "44   £8.00  \n",
       "45   £9.49  \n",
       "46   £6.29  \n",
       "47  £10.00  \n",
       "48  £14.55  \n",
       "49   £8.15  "
      ]
     },
     "execution_count": 244,
     "metadata": {},
     "output_type": "execute_result"
    }
   ],
   "source": [
    "books_df"
   ]
  }
 ],
 "metadata": {
  "kernelspec": {
   "display_name": "Python 3 (ipykernel)",
   "language": "python",
   "name": "python3"
  },
  "language_info": {
   "codemirror_mode": {
    "name": "ipython",
    "version": 3
   },
   "file_extension": ".py",
   "mimetype": "text/x-python",
   "name": "python",
   "nbconvert_exporter": "python",
   "pygments_lexer": "ipython3",
   "version": "3.9.7"
  }
 },
 "nbformat": 4,
 "nbformat_minor": 5
}
